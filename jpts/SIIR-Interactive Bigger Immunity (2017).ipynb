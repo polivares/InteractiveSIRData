{
 "cells": [
  {
   "cell_type": "code",
   "execution_count": 1,
   "metadata": {},
   "outputs": [],
   "source": [
    "import pandas as pd\n",
    "import matplotlib.pyplot as plt\n",
    "import scipy.integrate as spi\n",
    "from scipy.optimize import curve_fit,minimize,fmin\n",
    "import numpy as np\n",
    "import matplotlib \n",
    "import pickle as pkl  \n",
    "np.set_printoptions(suppress=True)\n",
    "plt.rc('text', usetex=True)\n",
    "%matplotlib inline\n",
    "\n",
    "dataDir = \"../data/\"\n",
    "imageDir = \"../images/\""
   ]
  },
  {
   "cell_type": "code",
   "execution_count": 2,
   "metadata": {},
   "outputs": [],
   "source": [
    "# Loading data\n",
    "menSeries = pd.read_pickle(dataDir + \"pkls/menSeries.pkl\")\n",
    "fluSeries = pd.read_pickle(dataDir + \"pkls/fluSeries.pkl\")\n",
    "ausPop = pd.read_pickle(dataDir + \"pkls/ausPop.pkl\")"
   ]
  },
  {
   "cell_type": "code",
   "execution_count": 3,
   "metadata": {},
   "outputs": [
    {
     "name": "stdout",
     "output_type": "stream",
     "text": [
      "Flu Params:  {2017: [8.993779282533158, 8.347865953418331, 0.8051828650381628], 2008: [42.5326377333672, 41.95061087323178, 0.6177425164247533], 2009: [23.119115425141842, 22.083991154996014, 0.7438191626954874], 2010: [32.30813365036235, 31.80694514966924, 0.5097104487520645], 2011: [22.91502211555694, 22.474019634990025, 0.40824883608999374], 2012: [24.891229614896744, 24.092996505166525, 0.39765302267157104], 2013: [22.01052108945536, 21.5885895533915, 0.40562738960738526], 2014: [14.516747435308488, 14.01013969373412, 0.9477372372115072], 2015: [13.718650206765938, 13.121294215858713, 0.6382422553379445], 2016: [14.199845208468432, 13.651995896143694, 0.5599832630790567]}\n",
      "Men Params:  {2017: [69.37033397309656, 69.30257707258437, 0.1516317620776813], 2009: [60.231846774940124, 60.21980222020443, 0.15275229894586662], 2010: [-0.007996924771336527, 1.5674723254362843e-05, 0.10309441643286982], 2011: [-0.0012161035454762803, 0.04575438032812004, 0.10341005926078485], 2012: [168.30591038787196, 168.16297383533924, 0.13257514233058662], 2013: [121.34425185049055, 121.29626573215431, 0.1530242986181454], 2014: [212.8582713786913, 212.6516034393233, 0.045270446046769275], 2015: [254.14954418266785, 253.87905864700417, 0.0650289278363755], 2016: [-0.0019203871490743678, -0.020079890030061442, 0.12449161250375251]}\n",
      "Flu-Men Params {2009: [23.165891832377845, 60.188571134622705, 22.13024905632235, 60.275959352876185, 55.61420610508666, 177.40316620949235, 0.014175013125796436, 37.43345603360601, 0.7547242484793967, 0.7439167622541205, 0.1272656358964839], 2012: [24.90303260828472, 168.3108188573084, 24.104461314568447, 168.19226866283987, 28.225586626040105, 232.81827172762235, 24.16518970140763, 145.81975754875526, 0.4184941001552954, 0.3976564879459555, 0.13040946844182208], 2013: [22.04896753326169, 121.31862253663462, 21.626181906371976, 121.3165140304462, 25.039474358521773, 189.15414081122643, 8.981792406723168, 45.32551116972912, 0.4321807097730972, 0.4056401021364764, 0.14911832026510727], 2014: [14.517905215469817, 212.85184985226095, 14.011233908635012, 212.6661472916151, 35.19770323901825, 284.6494192934112, 0.005018358372968291, 228.2666609180745, 0.9487757521220405, 0.9477306048939026, 0.04452110019059561], 2015: [13.71898905356312, 254.13423929432417, 13.121598648550545, 253.89317165471869, 15.856514598380798, 283.8687090445413, 11.504956844614968, 234.2074193332774, 0.6412403937130352, 0.6382410158930328, 0.061948754314173154], 2016: [14.23654997189014, -0.07718273143908555, 13.686153326838859, 0.4469182182187734, 82.57120708976628, 20.702468694422016, 164.9033576571461, -162.40129416031914, 562073.130290817, 0.5591836711757141, 0.05691946666447748], 2017: [9.00165750105233, 69.35210027387456, 8.35506567120736, 69.35957442372714, 10.060360325775953, 97.56183004648915, 4.957084610524714, 53.932494914485716, 0.8164660479219888, 0.8051982346359865, 0.13517621961144763]}\n"
     ]
    }
   ],
   "source": [
    "menParams = pkl.load(open(dataDir + \"pkls/menSIRParams.pkl\", \"rb\"))\n",
    "fluParams = pkl.load(open(dataDir + \"pkls/fluSIRParams.pkl\", \"rb\"))\n",
    "flu_menParams = pkl.load(open(dataDir + \"pkls/flu_menSIIRParams.pkl\", \"rb\"))\n",
    "print(\"Flu Params: \",fluParams)\n",
    "print(\"Men Params: \",menParams)\n",
    "print(\"Flu-Men Params\",flu_menParams)"
   ]
  },
  {
   "cell_type": "code",
   "execution_count": 4,
   "metadata": {},
   "outputs": [
    {
     "name": "stdout",
     "output_type": "stream",
     "text": [
      "relativedelta(months=+11)\n"
     ]
    }
   ],
   "source": [
    "# Evaluation time\n",
    "from datetime import datetime # Library for datetime format\n",
    "from dateutil import relativedelta # Library to calculate delta time from date\n",
    "\n",
    "year = 2017\n",
    "startdate = str(year) + '-01'\n",
    "enddate = str(year) + '-12'\n",
    "\n",
    "\n",
    "date_format = \"%Y-%m\"\n",
    "sd = datetime.strptime(startdate, date_format)\n",
    "ed = datetime.strptime(enddate, date_format)\n",
    "\n",
    "n_months = relativedelta.relativedelta(ed, sd) # Number of months (delta time)\n",
    "print(n_months)"
   ]
  },
  {
   "cell_type": "code",
   "execution_count": 5,
   "metadata": {},
   "outputs": [],
   "source": [
    "# Timestamp parameters\n",
    "t_start = 0.0; t_end = n_months.months; t_inc = 1\n",
    "t_range = np.arange(t_start, t_end+t_inc, t_inc)\n"
   ]
  },
  {
   "cell_type": "code",
   "execution_count": 6,
   "metadata": {},
   "outputs": [],
   "source": [
    "# Initial conditions\n",
    "SIIR0 = np.zeros(9)\n",
    "SIIR0[1] = (0.6*ausPop[year])\n",
    "SIIR0[2] = (menSeries[startdate])\n",
    "SIIR0[0] = ausPop[year] - np.sum(SIIR0[1:8])"
   ]
  },
  {
   "cell_type": "code",
   "execution_count": 7,
   "metadata": {},
   "outputs": [],
   "source": [
    "# Defining SIIR isolated equations\n",
    "def SIIR_eqs(SIIR0,t,beta1,beta2, delta1, delta2, beta1prime, beta2prime, delta1prime, delta2prime):\n",
    "    #beta1, beta2, delta1, delta2, beta1prime, beta2prime, delta1prime, delta2prime = params\n",
    "    SSi, ISi, SIi, IIi, RSi, SRi, RIi, IRi, RRi = SIIR0\n",
    "    \n",
    "    N = np.sum(SIIR0)\n",
    "    \n",
    "    SS = -SSi * beta1 * (ISi + IIi + IRi) / N - SSi * beta2 * (SIi + IIi + RIi) / N\n",
    "    SI = beta2*SSi*(SIi + IIi + RIi)/N - beta1prime*SIi*(ISi + IIi + IRi)/N - delta2*SIi \n",
    "    SR = delta2 * SIi - SRi * beta1 * (ISi + IIi + IRi)/N\n",
    "    IS = SSi * beta1 * (ISi + IIi + IRi) / N - delta1 * ISi - ISi * beta2prime * (SIi + IIi + RIi) / N\n",
    "    II = ISi * beta2prime * (SIi + IIi + RIi) / N + SIi * beta1prime * (ISi + IIi + IRi) / N - delta1prime * IIi - delta2prime * IIi\n",
    "    IR = SRi * beta1 * (ISi + IIi + IRi) / N + delta2prime * IIi - delta1 * IRi\n",
    "    RS = delta1 * ISi - RSi * beta2 * (SIi + IIi + RIi) / N\n",
    "    RI = RSi * beta2 * (SIi + IIi + RIi) / N + delta1prime * IIi - delta2 * RIi\n",
    "    RR = delta1 * IRi + delta2 * RIi\n",
    "\n",
    "    return SS, IS, SI, II, RS, SR, RI, IR, RR\n",
    "\n",
    "# Fitting function from infected data and I state on SIR model\n",
    "def fitSIIR(t, beta1,beta2, gamma1, gamma2, beta1int, beta2int, gamma1int, gamma2int):\n",
    "    sir_res = spi.odeint(SIIR_eqs,SIIR0,t,args=(beta1,beta2, gamma1, gamma2, beta1int, beta2int, gamma1int, gamma2int)) \n",
    "    I1 = sir_res[:,1] + sir_res[:,3] + sir_res[:,7] \n",
    "    I2 = sir_res[:,2] + sir_res[:,3] + sir_res[:,6]\n",
    "    return I1,I2\n",
    "\n",
    "def normMSE(data,model):\n",
    "    n = len(data)\n",
    "    mse = ((data-model)**2).sum()\n",
    "    nmse = mse/(n*(data.sum()/n)*(model.sum()/n))\n",
    "\n",
    "    return nmse\n",
    "\n",
    "def fitErrorSIIR(params):\n",
    "    beta1,beta2, gamma1, gamma2, beta1int, beta2int, gamma1int, gamma2int = params\n",
    "\n",
    "    params_np = np.array(params)\n",
    "    k = 1 # penalization\n",
    "    if np.any(params_np<0):\n",
    "        k = 1000000\n",
    "    I1,I2 = fitSIIR(t_range, beta1,beta2, gamma1, gamma2, beta1int, beta2int, gamma1int, gamma2int)\n",
    "    sim = [normMSE(fluSeries[startdate:enddate],I1),normMSE(menSeries[startdate:enddate],I2)]\n",
    "    \n",
    "    return k * np.linalg.norm(sim)"
   ]
  },
  {
   "cell_type": "code",
   "execution_count": 8,
   "metadata": {},
   "outputs": [],
   "source": [
    "beta1,beta2, gamma1, gamma2, beta1int, beta2int, gamma1int, gamma2int = flu_menParams[year][0:8]\n",
    "I1,I2 = fitSIIR(t_range, beta1,beta2, gamma1, gamma2, beta1int, beta2int, gamma1int, gamma2int)"
   ]
  },
  {
   "cell_type": "markdown",
   "metadata": {},
   "source": [
    "# Evaluation Comparison"
   ]
  },
  {
   "cell_type": "code",
   "execution_count": 9,
   "metadata": {},
   "outputs": [],
   "source": [
    "# Defining SIR isolated equations\n",
    "def SIR_eqs(SIR0,t, beta, gamma):\n",
    "    S0=SIR0[0]\n",
    "    I0=SIR0[1]\n",
    "    R0=SIR0[2]\n",
    "\n",
    "    S = - beta * S0 * I0/ausPop[year]\n",
    "    I = (beta * S0 * I0/ausPop[year]) - gamma * I0\n",
    "    R = gamma * I0\n",
    "\n",
    "    return (S,I,R)\n",
    "\n",
    "# Fitting function from infected data and I state on SIR model\n",
    "def fitSIR(t, beta, gamma):\n",
    "    return spi.odeint(SIR_eqs,SIR0,t_range,args=(beta,gamma))[:,1] "
   ]
  },
  {
   "cell_type": "markdown",
   "metadata": {},
   "source": [
    "## Influenza (isolated)"
   ]
  },
  {
   "cell_type": "code",
   "execution_count": 10,
   "metadata": {},
   "outputs": [],
   "source": [
    "# Timestamp parameters\n",
    "t_start = 0.0; t_end = n_months.months; t_inc = 0.01\n",
    "t_eval = np.arange(t_start, t_end+t_inc, t_inc)\n",
    "\n",
    "# Initial conditions\n",
    "S0 = (ausPop[year] - fluSeries[startdate])\n",
    "I0 = (fluSeries[startdate])\n",
    "R0 = 0\n",
    "\n",
    "SIR0 = [S0,I0,R0]"
   ]
  },
  {
   "cell_type": "code",
   "execution_count": 11,
   "metadata": {},
   "outputs": [],
   "source": [
    "def fluSIRSim(beta,gamma):    \n",
    "    return spi.odeint(SIR_eqs,SIR0,t_eval,args=(beta,gamma))"
   ]
  },
  {
   "cell_type": "code",
   "execution_count": 12,
   "metadata": {},
   "outputs": [],
   "source": [
    "betaFlu = fluParams[year][0]\n",
    "gammaFlu = fluParams[year][1]\n",
    "SIRflu = fluSIRSim(betaFlu,gammaFlu)\n",
    "Sflu = SIRflu[:,0]\n",
    "Iflu = SIRflu[:,1]\n",
    "Rflu = SIRflu[:,2]"
   ]
  },
  {
   "cell_type": "code",
   "execution_count": 13,
   "metadata": {},
   "outputs": [
    {
     "data": {
      "image/png": "[encoded data removed]",
      "text/plain": [
       "<Figure size 432x288 with 1 Axes>"
      ]
     },
     "metadata": {
      "needs_background": "light"
     },
     "output_type": "display_data"
    }
   ],
   "source": [
    "plt.plot(t_range[:n_months.months+1], fluSeries[startdate:enddate].values,'ok',label=\"Original data\")\n",
    "plt.plot(t_eval,Iflu,'-r',label=\"Infected fit\")\n",
    "plt.show()\n",
    "plt.close()"
   ]
  },
  {
   "cell_type": "markdown",
   "metadata": {},
   "source": [
    "## Meningococcal (isolated)"
   ]
  },
  {
   "cell_type": "code",
   "execution_count": 14,
   "metadata": {},
   "outputs": [],
   "source": [
    "# Timestamp parameters\n",
    "t_start = 0.0; t_end = n_months.months; t_inc = 0.01\n",
    "t_eval = np.arange(t_start, t_end+t_inc, t_inc)\n",
    "\n",
    "# Initial conditions\n",
    "S0 = (ausPop[year] - menSeries[startdate])\n",
    "I0 = (menSeries[startdate])\n",
    "R0 = 0\n",
    "\n",
    "SIR0 = [S0,I0,R0]"
   ]
  },
  {
   "cell_type": "code",
   "execution_count": 15,
   "metadata": {},
   "outputs": [],
   "source": [
    "def menSIRSim(beta,gamma):    \n",
    "    return spi.odeint(SIR_eqs,SIR0,t_eval,args=(beta,gamma))"
   ]
  },
  {
   "cell_type": "code",
   "execution_count": 16,
   "metadata": {},
   "outputs": [],
   "source": [
    "betaMen = menParams[year][0]\n",
    "gammaMen = menParams[year][1]\n",
    "\n",
    "SIRmen = menSIRSim(betaMen,gammaMen)\n",
    "Smen = SIRmen[:,0]\n",
    "Imen = SIRmen[:,1]\n",
    "Rmen = SIRmen[:,2]"
   ]
  },
  {
   "cell_type": "code",
   "execution_count": 17,
   "metadata": {},
   "outputs": [
    {
     "data": {
      "image/png": "[encoded data removed]",
      "text/plain": [
       "<Figure size 432x288 with 1 Axes>"
      ]
     },
     "metadata": {
      "needs_background": "light"
     },
     "output_type": "display_data"
    }
   ],
   "source": [
    "\n",
    "plt.plot(t_range[:n_months.months+1], menSeries[startdate:enddate].values,'ok',label=\"Original data\")\n",
    "plt.plot(t_eval,Imen,'-r',label=\"Infected fit\")\n",
    "plt.text(15, 60, r'$\\gamma = $' + str(gammaMen))\n",
    "plt.text(15, 64, r'$\\beta = $' + str(betaMen))\n",
    "plt.show()\n",
    "plt.close()"
   ]
  },
  {
   "cell_type": "markdown",
   "metadata": {},
   "source": [
    "## Influenza / Meningococcal (interactive)"
   ]
  },
  {
   "cell_type": "code",
   "execution_count": 18,
   "metadata": {},
   "outputs": [],
   "source": [
    "# Timestamp parameters\n",
    "t_start = 0.0; t_end = n_months.months; t_inc = 0.01\n",
    "t_eval = np.arange(t_start, t_end+t_inc, t_inc)\n",
    "\n",
    "# Initial conditions\n",
    "SIIR0 = np.zeros(9)\n",
    "SIIR0[1] = (fluSeries[startdate])\n",
    "SIIR0[2] = (menSeries[startdate])\n",
    "SIIR0[4] = 0.6*ausPop[year]\n",
    "SIIR0[0] = ausPop[year] - np.sum(SIIR0[1:8])"
   ]
  },
  {
   "cell_type": "code",
   "execution_count": 19,
   "metadata": {},
   "outputs": [],
   "source": [
    "def menfluSIIRSim(beta1,beta2,gamma1, gamma2, beta1int, beta2int, gamma1int, gamma2int):    \n",
    "    return spi.odeint(SIIR_eqs,SIIR0,t_eval,args=(beta1,beta2, gamma1, gamma2, beta1int, beta2int, gamma1int, gamma2int)) "
   ]
  },
  {
   "cell_type": "code",
   "execution_count": 20,
   "metadata": {},
   "outputs": [],
   "source": [
    "SIIR = menfluSIIRSim(beta1,beta2,gamma1, gamma2, beta1int, beta2int, gamma1int, gamma2int)\n",
    "I1 = SIIR[:,1] + SIIR[:,3] + SIIR[:,7] \n",
    "I2 = SIIR[:,2] + SIIR[:,3] + SIIR[:,6]\n",
    " "
   ]
  },
  {
   "cell_type": "code",
   "execution_count": 21,
   "metadata": {},
   "outputs": [
    {
     "data": {
      "image/png": "[encoded data removed]",
      "text/plain": [
       "<Figure size 432x288 with 1 Axes>"
      ]
     },
     "metadata": {
      "needs_background": "light"
     },
     "output_type": "display_data"
    }
   ],
   "source": [
    "# Influenza\n",
    "\n",
    "plt.plot(t_range[:n_months.months+1], fluSeries[startdate:enddate].values,'ok',label=\"Original data\")\n",
    "plt.plot(t_eval,Iflu,'-r',label=\"Isolated infected fit\")\n",
    "plt.plot(t_eval,I1,'-b',label=\"Interactive infected fit\")\n",
    "plt.legend()\n",
    "plt.title(\"Influenza Year: \" + str(year))\n",
    "plt.savefig(imageDir + \"flu_menInteractive/fluInteractive_\" + str(year) + \".png\" )\n",
    "plt.show()\n",
    "plt.close()"
   ]
  },
  {
   "cell_type": "code",
   "execution_count": 22,
   "metadata": {},
   "outputs": [
    {
     "data": {
      "image/png": "[encoded data removed]",
      "text/plain": [
       "<Figure size 432x288 with 1 Axes>"
      ]
     },
     "metadata": {
      "needs_background": "light"
     },
     "output_type": "display_data"
    }
   ],
   "source": [
    "# Meningococcal\n",
    "plt.plot(t_range[:n_months.months+1], menSeries[startdate:enddate].values,'ok',label=\"Original data\")\n",
    "plt.plot(t_eval,Imen,'-r',label=\"Isolated infected fit\")\n",
    "plt.plot(t_eval,I2,'-b',label=\"Interactive infected fit\")\n",
    "plt.legend()\n",
    "plt.title(\"Meningococcal Year: \" + str(year))\n",
    "plt.savefig(imageDir + \"flu_menInteractive/menInteractive_\" + str(year) + \".png\" )\n",
    "plt.show()\n",
    "plt.close()"
   ]
  }
 ],
 "metadata": {
  "kernelspec": {
   "display_name": "Python 3",
   "language": "python",
   "name": "python3"
  },
  "language_info": {
   "codemirror_mode": {
    "name": "ipython",
    "version": 3
   },
   "file_extension": ".py",
   "mimetype": "text/x-python",
   "name": "python",
   "nbconvert_exporter": "python",
   "pygments_lexer": "ipython3",
   "version": "3.8.3"
  }
 },
 "nbformat": 4,
 "nbformat_minor": 4
}
